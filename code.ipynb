{
 "cells": [
  {
   "cell_type": "code",
   "execution_count": 1,
   "metadata": {},
   "outputs": [],
   "source": [
    "# importing necessary libraries\n",
    "import json\n",
    "import os\n",
    "import pandas as pd\n",
    "from sklearn.impute import SimpleImputer\n",
    "from sklearn.decomposition import PCA\n",
    "from sklearn.feature_selection import SelectKBest, f_regression\n",
    "from sklearn.ensemble import RandomForestRegressor\n",
    "from sklearn.linear_model import LinearRegression\n",
    "from sklearn.tree import DecisionTreeRegressor\n",
    "from sklearn.model_selection import GridSearchCV, train_test_split\n",
    "from sklearn.pipeline import Pipeline\n",
    "from sklearn.metrics import mean_squared_error, r2_score"
   ]
  },
  {
   "cell_type": "code",
   "execution_count": 2,
   "metadata": {},
   "outputs": [],
   "source": [
    "json_file = 'algoparams_from_ui.json'\n",
    "csv_file = 'iris.csv'"
   ]
  },
  {
   "cell_type": "code",
   "execution_count": 3,
   "metadata": {},
   "outputs": [],
   "source": [
    "def parse_json(json_file):\n",
    "    with open(json_file, 'r') as file:\n",
    "        data = json.load(file)\n",
    "        print(\"Parsed JSON Data:\", data)\n",
    "        if data:  # Check if data is not empty\n",
    "            print(\"Data successfully loaded!\")\n",
    "        else:\n",
    "            print(\"Data is empty.\")\n",
    "        return data"
   ]
  },
  {
   "cell_type": "code",
   "execution_count": 4,
   "metadata": {},
   "outputs": [],
   "source": [
    "# 2. Load and Prepare Data\n",
    "def load_data(csv_file, target_column):\n",
    "    data = pd.read_csv(csv_file)\n",
    "    X = data.drop(columns=[target_column])\n",
    "    y = data[target_column]\n",
    "    return X, y\n"
   ]
  },
  {
   "cell_type": "code",
   "execution_count": 5,
   "metadata": {},
   "outputs": [],
   "source": [
    "# 3. Feature Handling\n",
    "# Ensure target_column is not included in feature handling\n",
    "from sklearn.preprocessing import OneHotEncoder\n",
    "from sklearn.compose import ColumnTransformer\n",
    "def get_feature_handling_steps(config, X, target_column):\n",
    "    steps = []\n",
    "    transformers = []\n",
    "\n",
    "    for feature, details in config['feature_handling'].items():\n",
    "        if feature == target_column:\n",
    "            continue  # Skip the target column\n",
    "\n",
    "        if details['is_selected']:\n",
    "            if details['feature_variable_type'] == 'numerical':\n",
    "                impute_strategy = 'mean' if details['feature_details']['impute_with'] == 'Average of values' else 'constant'\n",
    "                impute_value = details['feature_details'].get('impute_value', 0)\n",
    "                transformers.append(\n",
    "                    (f\"{feature}_imputer\", SimpleImputer(strategy=impute_strategy, fill_value=impute_value), [feature])\n",
    "                )\n",
    "            elif details['feature_variable_type'] == 'text':\n",
    "                transformers.append(\n",
    "                    (f\"{feature}_encoder\", OneHotEncoder(handle_unknown='ignore'), [feature])\n",
    "                )\n",
    "\n",
    "    steps.append(('preprocessor', ColumnTransformer(transformers)))\n",
    "    return steps\n"
   ]
  },
  {
   "cell_type": "code",
   "execution_count": 6,
   "metadata": {},
   "outputs": [],
   "source": [
    "# 4. Feature Reduction\n",
    "from sklearn.feature_selection import SelectFromModel\n",
    "def get_feature_reduction_steps(config):\n",
    "    reduction_method = config['feature_reduction']['feature_reduction_method']\n",
    "    steps = []\n",
    "\n",
    "    if reduction_method == 'Tree-based':\n",
    "        steps.append(('feature_selection', SelectFromModel(RandomForestRegressor(n_estimators=100))))\n",
    "    elif reduction_method == 'PCA':\n",
    "        from sklearn.decomposition import PCA\n",
    "        steps.append(('pca', PCA(n_components=int(config['feature_reduction'].get('num_of_features_to_keep', 5)))))\n",
    "    return steps\n"
   ]
  },
  {
   "cell_type": "code",
   "execution_count": 7,
   "metadata": {},
   "outputs": [],
   "source": [
    "# 5. Model Selection\n",
    "def get_model_and_hyperparams(config):\n",
    "    models = []\n",
    "    algorithms = config['algorithms']\n",
    "\n",
    "    for model_name, model_conf in algorithms.items():\n",
    "        if model_conf['is_selected']:\n",
    "            if model_name == 'RandomForestRegressor':\n",
    "                model = RandomForestRegressor()\n",
    "                hyperparams = {\n",
    "                    'model__n_estimators': [model_conf['min_trees'], model_conf['max_trees']],\n",
    "                    'model__max_depth': [model_conf['min_depth'], model_conf['max_depth']]\n",
    "                }\n",
    "                models.append((model_name, model, hyperparams))\n",
    "    return models"
   ]
  },
  {
   "cell_type": "code",
   "execution_count": 8,
   "metadata": {},
   "outputs": [],
   "source": [
    "# 6. Build and Run Pipeline\n",
    "def build_and_run_pipeline(X, y, config):\n",
    "    feature_handling_steps = get_feature_handling_steps(config['design_state_data'], X, target_column)\n",
    "    feature_reduction_steps = get_feature_reduction_steps(config['design_state_data'])\n",
    "    models = get_model_and_hyperparams(config['design_state_data'])\n",
    "\n",
    "    X_train, X_test, y_train, y_test = train_test_split(X, y, test_size=0.2, random_state=42)\n",
    "\n",
    "    for model_name, model, hyperparams in models:\n",
    "        print(f\"\\nTraining model: {model_name}\")\n",
    "\n",
    "        steps = feature_handling_steps + feature_reduction_steps + [('model', model)]\n",
    "        pipeline = Pipeline(steps)\n",
    "\n",
    "        if hyperparams:\n",
    "            pipeline = GridSearchCV(pipeline, param_grid=hyperparams, cv=5)\n",
    "\n",
    "        pipeline.fit(X_train, y_train)\n",
    "        predictions = pipeline.predict(X_test)\n",
    "\n",
    "        print(\"Mean Squared Error:\", mean_squared_error(y_test, predictions))\n",
    "        print(\"R2 Score:\", r2_score(y_test, predictions))\n",
    "        if hasattr(pipeline, 'best_params_'):\n",
    "            print(\"Best Hyperparameters:\", pipeline.best_params_)\n"
   ]
  },
  {
   "cell_type": "code",
   "execution_count": 9,
   "metadata": {},
   "outputs": [
    {
     "name": "stdout",
     "output_type": "stream",
     "text": [
      "Parsed JSON Data: {'session_name': 'test', 'session_description': 'test', 'design_state_data': {'session_info': {'project_id': '1', 'experiment_id': 'kkkk-11', 'dataset': 'iris.csv', 'session_name': 'test', 'session_description': 'test'}, 'target': {'prediction_type': 'Regression', 'target': 'petal_width', 'type': 'regression', 'partitioning': True}, 'train': {'policy': 'Split the dataset', 'time_variable': 'sepal_length', 'sampling_method': 'No sampling(whole data)', 'split': 'Randomly', 'k_fold': False, 'train_ratio': 0, 'random_seed': 0}, 'metrics': {'optomize_model_hyperparameters_for': 'AUC', 'optimize_threshold_for': 'F1 Score', 'compute_lift_at': 0, 'cost_matrix_gain_for_true_prediction_true_result': 1, 'cost_matrix_gain_for_true_prediction_false_result': 0, 'cost_matrix_gain_for_false_prediction_true_result': 0, 'cost_matrix_gain_for_false_prediction_false_result': 0}, 'feature_handling': {'sepal_length': {'feature_name': 'sepal_length', 'is_selected': True, 'feature_variable_type': 'numerical', 'feature_details': {'numerical_handling': 'Keep as regular numerical feature', 'rescaling': 'No rescaling', 'make_derived_feats': False, 'missing_values': 'Impute', 'impute_with': 'Average of values', 'impute_value': 0}}, 'sepal_width': {'feature_name': 'sepal_width', 'is_selected': True, 'feature_variable_type': 'numerical', 'feature_details': {'numerical_handling': 'Keep as regular numerical feature', 'rescaling': 'No rescaling', 'make_derived_feats': False, 'missing_values': 'Impute', 'impute_with': 'custom', 'impute_value': -1}}, 'petal_length': {'feature_name': 'petal_length', 'is_selected': True, 'feature_variable_type': 'numerical', 'feature_details': {'numerical_handling': 'Keep as regular numerical feature', 'rescaling': 'No rescaling', 'make_derived_feats': False, 'missing_values': 'Impute', 'impute_with': 'Average of values', 'impute_value': 0}}, 'petal_width': {'feature_name': 'petal_width', 'is_selected': True, 'feature_variable_type': 'numerical', 'feature_details': {'numerical_handling': 'Keep as regular numerical feature', 'rescaling': 'No rescaling', 'make_derived_feats': False, 'missing_values': 'Impute', 'impute_with': 'custom', 'impute_value': -2}}, 'species': {'feature_name': 'species', 'is_selected': True, 'feature_variable_type': 'text', 'feature_details': {'text_handling': 'Tokenize and hash', 'hash_columns': 0}}}, 'feature_generation': {'linear_interactions': [['petal_length', 'sepal_width']], 'linear_scalar_type': 'robust', 'polynomial_interactions': ['petal_length/sepal_width', 'petal_width/species'], 'explicit_pairwise_interactions': ['sepal_width/sepal_length', 'petal_width/sepal_length']}, 'feature_reduction': {'feature_reduction_method': 'Tree-based', 'num_of_features_to_keep': '4', 'num_of_trees': '5', 'depth_of_trees': '6'}, 'hyperparameters': {'stratergy': 'Grid Search', 'shuffle_grid': True, 'random_state': 1, 'max_iterations': 2, 'max_search_time': 3, 'parallelism': 5, 'cross_validation_stratergy': 'Time-based K-fold(with overlap)', 'num_of_folds': 6, 'split_ratio': 0, 'stratified': True}, 'weighting_stratergy': {'weighting_stratergy_method': 'Sample weights', 'weighting_stratergy_weight_variable': 'petal_length'}, 'probability_calibration': {'probability_calibration_method': 'Sigmoid - Platt Scaling'}, 'algorithms': {'RandomForestClassifier': {'model_name': 'Random Forest Classifier', 'is_selected': False, 'min_trees': 10, 'max_trees': 30, 'feature_sampling_statergy': 'Default', 'min_depth': 20, 'max_depth': 30, 'min_samples_per_leaf_min_value': 5, 'min_samples_per_leaf_max_value': 50, 'parallelism': 0}, 'RandomForestRegressor': {'model_name': 'Random Forest Regressor', 'is_selected': True, 'min_trees': 10, 'max_trees': 20, 'feature_sampling_statergy': 'Default', 'min_depth': 20, 'max_depth': 25, 'min_samples_per_leaf_min_value': 5, 'min_samples_per_leaf_max_value': 10, 'parallelism': 0}, 'GBTClassifier': {'model_name': 'Gradient Boosted Trees', 'is_selected': False, 'num_of_BoostingStages': [67, 89], 'feature_sampling_statergy': 'Fixed number', 'learningRate': [], 'use_deviance': True, 'use_exponential': False, 'fixed_number': 22, 'min_subsample': 1, 'max_subsample': 2, 'min_stepsize': 0.1, 'max_stepsize': 0.5, 'min_iter': 20, 'max_iter': 40, 'min_depth': 5, 'max_depth': 7}, 'GBTRegressor': {'model_name': 'Gradient Boosted Trees', 'is_selected': False, 'num_of_BoostingStages': [67, 89], 'feature_sampling_statergy': 'Fixed number', 'use_deviance': True, 'use_exponential': False, 'fixed_number': 22, 'min_subsample': 1, 'max_subsample': 2, 'min_stepsize': 0.1, 'max_stepsize': 0.5, 'min_iter': 20, 'max_iter': 40, 'min_depth': 5, 'max_depth': 7}, 'LinearRegression': {'model_name': 'LinearRegression', 'is_selected': False, 'parallelism': 2, 'min_iter': 30, 'max_iter': 50, 'min_regparam': 0.5, 'max_regparam': 0.8, 'min_elasticnet': 0.5, 'max_elasticnet': 0.8}, 'LogisticRegression': {'model_name': 'LogisticRegression', 'is_selected': False, 'parallelism': 2, 'min_iter': 30, 'max_iter': 50, 'min_regparam': 0.5, 'max_regparam': 0.8, 'min_elasticnet': 0.5, 'max_elasticnet': 0.8}, 'RidgeRegression': {'model_name': 'RidgeRegression', 'is_selected': False, 'regularization_term': 'Specify values to test', 'min_iter': 30, 'max_iter': 50, 'min_regparam': 0.5, 'max_regparam': 0.8}, 'LassoRegression': {'model_name': 'Lasso Regression', 'is_selected': False, 'regularization_term': 'Specify values to test', 'min_iter': 30, 'max_iter': 50, 'min_regparam': 0.5, 'max_regparam': 0.8}, 'ElasticNetRegression': {'model_name': 'Lasso Regression', 'is_selected': False, 'regularization_term': 'Specify values to test', 'min_iter': 30, 'max_iter': 50, 'min_regparam': 0.5, 'max_regparam': 0.8, 'min_elasticnet': 0.5, 'max_elasticnet': 0.8}, 'xg_boost': {'model_name': 'XG Boost', 'is_selected': False, 'use_gradient_boosted_tree': True, 'dart': True, 'tree_method': '', 'random_state': 0, 'max_num_of_trees': 0, 'early_stopping': True, 'early_stopping_rounds': 2, 'max_depth_of_tree': [56, 89], 'learningRate': [89, 76], 'l1_regularization': [77], 'l2_regularization': [78], 'gamma': [68], 'min_child_weight': [67], 'sub_sample': [67], 'col_sample_by_tree': [67], 'replace_missing_values': False, 'parallelism': 0}, 'DecisionTreeRegressor': {'model_name': 'Decision Tree', 'is_selected': False, 'min_depth': 4, 'max_depth': 7, 'use_gini': False, 'use_entropy': True, 'min_samples_per_leaf': [12, 6], 'use_best': True, 'use_random': True}, 'DecisionTreeClassifier': {'model_name': 'Decision Tree', 'is_selected': False, 'min_depth': 4, 'max_depth': 7, 'use_gini': False, 'use_entropy': True, 'min_samples_per_leaf': [12, 6], 'use_best': True, 'use_random': True}, 'SVM': {'model_name': 'Support Vector Machine', 'is_selected': False, 'linear_kernel': True, 'rep_kernel': True, 'polynomial_kernel': True, 'sigmoid_kernel': True, 'c_value': [566, 79], 'auto': True, 'scale': True, 'custom_gamma_values': True, 'tolerance': 7, 'max_iterations': 7}, 'SGD': {'model_name': 'Stochastic Gradient Descent', 'is_selected': False, 'use_logistics': True, 'use_modified_hubber_loss': False, 'max_iterations': False, 'tolerance': 56, 'use_l1_regularization': 'on', 'use_l2_regularization': 'on', 'use_elastic_net_regularization': True, 'alpha_value': [79, 56], 'parallelism': 1}, 'KNN': {'model_name': 'KNN', 'is_selected': False, 'k_value': [78], 'distance_weighting': True, 'neighbour_finding_algorithm': 'Automatic', 'random_state': 0, 'p_value': 0}, 'extra_random_trees': {'model_name': 'Extra Random Trees', 'is_selected': False, 'num_of_trees': [45, 489], 'feature_sampling_statergy': 'Square root and Logarithm', 'max_depth': [12, 45], 'min_samples_per_leaf': [78, 56], 'parallelism': 3}, 'neural_network': {'model_name': 'Neural Network', 'is_selected': False, 'hidden_layer_sizes': [67, 89], 'activation': '', 'alpha_value': 0, 'max_iterations': 0, 'convergence_tolerance': 0, 'early_stopping': True, 'solver': 'ADAM', 'shuffle_data': True, 'initial_learning_rate': 0, 'automatic_batching': True, 'beta_1': 0, 'beta_2': 0, 'epsilon': 0, 'power_t': 0, 'momentum': 0, 'use_nesterov_momentum': False}}}}\n",
      "Data successfully loaded!\n",
      "\n",
      "Training model: RandomForestRegressor\n",
      "Mean Squared Error: 0.04480579770339603\n",
      "R2 Score: 0.9295124579470775\n",
      "Best Hyperparameters: {'model__max_depth': 20, 'model__n_estimators': 20}\n"
     ]
    }
   ],
   "source": [
    "# 7. Main Execution\n",
    "if __name__ == '__main__':\n",
    "    json_file = 'algoparams_from_ui.json'\n",
    "    csv_file = 'iris.csv'\n",
    "\n",
    "    config = parse_json(json_file)\n",
    "    target_column = config['design_state_data']['target']['target']\n",
    "\n",
    "    X, y = load_data(csv_file, target_column)\n",
    "    build_and_run_pipeline(X, y, config)"
   ]
  },
  {
   "cell_type": "code",
   "execution_count": null,
   "metadata": {},
   "outputs": [],
   "source": []
  }
 ],
 "metadata": {
  "kernelspec": {
   "display_name": "Python 3",
   "language": "python",
   "name": "python3"
  },
  "language_info": {
   "codemirror_mode": {
    "name": "ipython",
    "version": 3
   },
   "file_extension": ".py",
   "mimetype": "text/x-python",
   "name": "python",
   "nbconvert_exporter": "python",
   "pygments_lexer": "ipython3",
   "version": "3.10.11"
  }
 },
 "nbformat": 4,
 "nbformat_minor": 2
}
